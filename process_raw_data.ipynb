{
 "cells": [
  {
   "cell_type": "code",
   "execution_count": 1,
   "metadata": {},
   "outputs": [],
   "source": [
    "import pandas as pd\n",
    "import numpy as np"
   ]
  },
  {
   "cell_type": "code",
   "execution_count": 2,
   "metadata": {},
   "outputs": [],
   "source": [
    "daily_shopee_sales = pd.read_csv('shopee_date_merged.csv')"
   ]
  },
  {
   "cell_type": "code",
   "execution_count": 3,
   "metadata": {},
   "outputs": [
    {
     "name": "stdout",
     "output_type": "stream",
     "text": [
      "<class 'pandas.core.frame.DataFrame'>\n",
      "RangeIndex: 11130 entries, 0 to 11129\n",
      "Data columns (total 35 columns):\n",
      " #   Column                      Non-Null Count  Dtype  \n",
      "---  ------                      --------------  -----  \n",
      " 0   Channel                     11130 non-null  object \n",
      " 1   Date                        11130 non-null  object \n",
      " 2   Product ID                  10787 non-null  float64\n",
      " 3   Product name                10787 non-null  object \n",
      " 4   Product category            10787 non-null  object \n",
      " 5   Brand                       10787 non-null  object \n",
      " 6   All traffic                 10787 non-null  float64\n",
      " 7   All impressions             10787 non-null  float64\n",
      " 8   Orders                      10787 non-null  float64\n",
      " 9   Payment                     10787 non-null  float64\n",
      " 10  Revenue                     10787 non-null  float64\n",
      " 11  Product name_Map            10787 non-null  object \n",
      " 12  Sponsored product name      1718 non-null   object \n",
      " 13  Paid_Product category       1718 non-null   object \n",
      " 14  Paid_Brand                  1718 non-null   object \n",
      " 15  Sponsored product ID        1718 non-null   object \n",
      " 16  Ad spend                    1718 non-null   float64\n",
      " 17  Sponsored revenue           1718 non-null   float64\n",
      " 18  Sponsored impressions       1718 non-null   float64\n",
      " 19  Sponsored traffic           1718 non-null   float64\n",
      " 20  Sponsored payment           1718 non-null   float64\n",
      " 21  Sponsored product name_Map  1718 non-null   object \n",
      " 22  Order value                 10787 non-null  float64\n",
      " 23  Like                        10787 non-null  float64\n",
      " 24  Product page bounce count   10787 non-null  float64\n",
      " 25  All traffic from search     10787 non-null  float64\n",
      " 26  Year                        10787 non-null  float64\n",
      " 27  Month                       10787 non-null  float64\n",
      " 28  Day of the Week             10787 non-null  float64\n",
      " 29  Is Weekend                  10787 non-null  float64\n",
      " 30  Quarter                     10787 non-null  float64\n",
      " 31  Is Double Day               10787 non-null  float64\n",
      " 32  Is National Holiday         10787 non-null  float64\n",
      " 33  Is Lunar Tet                10787 non-null  float64\n",
      " 34  Is Seasonal Holiday         10787 non-null  float64\n",
      "dtypes: float64(24), object(11)\n",
      "memory usage: 3.0+ MB\n"
     ]
    }
   ],
   "source": [
    "daily_shopee_sales.info()"
   ]
  }
 ],
 "metadata": {
  "kernelspec": {
   "display_name": "time_series",
   "language": "python",
   "name": "python3"
  },
  "language_info": {
   "codemirror_mode": {
    "name": "ipython",
    "version": 3
   },
   "file_extension": ".py",
   "mimetype": "text/x-python",
   "name": "python",
   "nbconvert_exporter": "python",
   "pygments_lexer": "ipython3",
   "version": "3.12.4"
  }
 },
 "nbformat": 4,
 "nbformat_minor": 2
}
